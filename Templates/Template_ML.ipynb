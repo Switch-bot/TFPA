{
  "nbformat": 4,
  "nbformat_minor": 0,
  "metadata": {
    "kernelspec": {
      "display_name": "Python 2",
      "language": "python",
      "name": "python2"
    },
    "language_info": {
      "codemirror_mode": {
        "name": "ipython",
        "version": 3
      },
      "file_extension": ".py",
      "mimetype": "text/x-python",
      "name": "python",
      "nbconvert_exporter": "python",
      "pygments_lexer": "ipython3",
      "version": "3.7.3"
    },
    "colab": {
      "name": "Template_ML.ipynb",
      "provenance": [],
      "collapsed_sections": [
        "srxfRpDceyC9",
        "r4SXSxXfeyDC",
        "X6H5-RBWeyDS",
        "_Rix5ORSeyDf",
        "iZtqeQpjeyEa",
        "Kabupft2eyEt",
        "IsOoa7ffeyEw",
        "TT_sJ3xleyE3"
      ],
      "include_colab_link": true
    }
  },
  "cells": [
    {
      "cell_type": "markdown",
      "metadata": {
        "id": "view-in-github",
        "colab_type": "text"
      },
      "source": [
        "<a href=\"https://colab.research.google.com/github/Switch-bot/TFPA/blob/main/Templates/Template_ML.ipynb\" target=\"_parent\"><img src=\"https://colab.research.google.com/assets/colab-badge.svg\" alt=\"Open In Colab\"/></a>"
      ]
    },
    {
      "cell_type": "markdown",
      "metadata": {
        "id": "NHYjirCfex_a"
      },
      "source": [
        "## Import modules"
      ]
    },
    {
      "cell_type": "code",
      "metadata": {
        "id": "mQkf-Sveex_c",
        "colab": {
          "base_uri": "https://localhost:8080/"
        },
        "outputId": "31acaa8d-1c48-4c35-c0c6-4ac9ddd3e64a"
      },
      "source": [
        "from __future__ import division\n",
        "from __future__ import print_function\n",
        "\n",
        "%matplotlib inline\n",
        "\n",
        "import matplotlib.pyplot as plt\n",
        "import numpy as np\n",
        "import pandas\n",
        "import timeit #more accurate than time\n",
        "\n",
        "import theano\n",
        "import tensorflow\n",
        "\n",
        "from sklearn.decomposition import PCA\n",
        "import joblib\n",
        "from sklearn.metrics import roc_curve, roc_auc_score\n",
        "from sklearn.model_selection import train_test_split, StratifiedKFold\n",
        "from sklearn.pipeline import Pipeline\n",
        "from sklearn.preprocessing import StandardScaler\n",
        "\n",
        "import keras\n",
        "from keras import backend as K\n",
        "from keras.callbacks import EarlyStopping, ModelCheckpoint, Callback\n",
        "from keras.layers import Dense, Activation, Dropout\n",
        "from keras.models import Sequential, model_from_json, load_model\n",
        "from tensorflow.keras.optimizers import SGD\n",
        "from tensorflow.keras.optimizers import Nadam\n",
        "from tensorflow.keras.optimizers import Adam\n",
        "\n",
        "from sklearn.utils import shuffle\n",
        "\n",
        "import seaborn as sns\n",
        "sns.set_style(\"white\")\n",
        "import os\n",
        "import json\n",
        "#import shap\n",
        "\n",
        "\n",
        "from six.moves import cPickle #Faster than pickle\n",
        "\n",
        "from google.colab import drive\n",
        "drive.mount('/content/drive')"
      ],
      "execution_count": null,
      "outputs": [
        {
          "output_type": "stream",
          "name": "stdout",
          "text": [
            "Mounted at /content/drive\n"
          ]
        }
      ]
    },
    {
      "cell_type": "markdown",
      "metadata": {
        "id": "uhPDh_n9ex_k"
      },
      "source": [
        "# Configure data"
      ]
    },
    {
      "cell_type": "markdown",
      "metadata": {
        "id": "XYItMrpEex_l"
      },
      "source": [
        "## Load Signal Samples"
      ]
    },
    {
      "cell_type": "markdown",
      "metadata": {
        "id": "75oNEknKex_n"
      },
      "source": [
        "### Load the signal\n",
        "---"
      ]
    },
    {
      "cell_type": "markdown",
      "source": [
        "Here we will load the samples that we will work with. Notice that all samples have a collumn with \"Event Type\". This is a default flag with the following correspondence:\n",
        "1 - Heavy Neutral Lepton;\n",
        "2 - Dark Photon;\n",
        "3 - Neutralino;\n",
        "4 - Neutrino DIS"
      ],
      "metadata": {
        "id": "JNv4Ie3fXLz0"
      }
    },
    {
      "cell_type": "code",
      "metadata": {
        "id": "toBZ3-pBex_w",
        "colab": {
          "base_uri": "https://localhost:8080/"
        },
        "outputId": "4884ed20-f419-413a-a063-1d88c15311a6"
      },
      "source": [
        "!wget https://raw.githubusercontent.com/Switch-bot/TFPA/main/Data/Signal.dat\n",
        "Signal = pandas.read_csv(\"Signal.dat\")\n",
        "Signal['target'] = 1.0 # If you are doing a binary separation you can set the\n",
        "                       # target score as 1.0 for the signal and 0.0 for the background\n",
        "#Signal[' Decay Mode'] = 1 # Flag that you can use to maintain the samples organized, in case you load several at the same time\n",
        "#Signal.head()"
      ],
      "execution_count": null,
      "outputs": [
        {
          "output_type": "stream",
          "name": "stdout",
          "text": [
            "--2022-04-06 09:57:28--  https://raw.githubusercontent.com/Switch-bot/TFPA/main/Data/Signal.dat\n",
            "Resolving raw.githubusercontent.com (raw.githubusercontent.com)... 185.199.108.133, 185.199.109.133, 185.199.110.133, ...\n",
            "Connecting to raw.githubusercontent.com (raw.githubusercontent.com)|185.199.108.133|:443... connected.\n",
            "HTTP request sent, awaiting response... 200 OK\n",
            "Length: 505343 (493K) [text/plain]\n",
            "Saving to: ‘Signal.dat’\n",
            "\n",
            "Signal.dat          100%[===================>] 493.50K  --.-KB/s    in 0.03s   \n",
            "\n",
            "2022-04-06 09:57:28 (14.1 MB/s) - ‘Signal.dat’ saved [505343/505343]\n",
            "\n"
          ]
        }
      ]
    },
    {
      "cell_type": "markdown",
      "source": [
        "### Load the background"
      ],
      "metadata": {
        "id": "HnhJBFDiX7E1"
      }
    },
    {
      "cell_type": "code",
      "source": [
        "!wget https://raw.githubusercontent.com/Switch-bot/TFPA/main/Data/Background.dat\n",
        "Background = pandas.read_csv(\"Background.dat\")\n",
        "Background['target'] = 0.0 # Since we set the target score for the Signal as 1.0\n",
        "                       # we will set it as 0.0 for the background\n",
        "#Background.head()"
      ],
      "metadata": {
        "colab": {
          "base_uri": "https://localhost:8080/"
        },
        "id": "-gRuEsSEYMDj",
        "outputId": "704f10cc-f10b-4413-c31f-a4c072aaa732"
      },
      "execution_count": null,
      "outputs": [
        {
          "output_type": "stream",
          "name": "stdout",
          "text": [
            "--2022-04-06 09:57:34--  https://raw.githubusercontent.com/Switch-bot/TFPA/main/Data/Background.dat\n",
            "Resolving raw.githubusercontent.com (raw.githubusercontent.com)... 185.199.108.133, 185.199.109.133, 185.199.110.133, ...\n",
            "Connecting to raw.githubusercontent.com (raw.githubusercontent.com)|185.199.108.133|:443... connected.\n",
            "HTTP request sent, awaiting response... 200 OK\n",
            "Length: 1509854 (1.4M) [text/plain]\n",
            "Saving to: ‘Background.dat’\n",
            "\n",
            "Background.dat      100%[===================>]   1.44M  --.-KB/s    in 0.05s   \n",
            "\n",
            "2022-04-06 09:57:35 (26.9 MB/s) - ‘Background.dat’ saved [1509854/1509854]\n",
            "\n"
          ]
        }
      ]
    },
    {
      "cell_type": "markdown",
      "source": [
        "### Fixing and merging our datasets\n",
        "Since these two template samples are not written in the same format we will do a bit of fixing to merge them correctly before proceeding with the ML"
      ],
      "metadata": {
        "id": "3mNm-SqUYiAB"
      }
    },
    {
      "cell_type": "code",
      "source": [
        "Background.rename(columns={\" Event type\":\" Event Type\"}, inplace=True)\n",
        "Signal.rename(columns={\"  Daughter1 Fraction of Transverse Momentum\":\" Daughter1 Fraction of Transverse Momentum\", \"  Daughter2 Fraction of Transverse Momentum\":\" Daughter2 Fraction of Transverse Momentum\"}, inplace=True)\n",
        "FullSignal = pandas.concat([Signal,Background], ignore_index=True)\n",
        "FullSignal.drop(\" DOCA (cm)\" ,axis=1, inplace=True)\n",
        "FullSignal.drop(\" Invariant Mass (GeV/c^2)\" ,axis=1, inplace=True)"
      ],
      "metadata": {
        "id": "e5rpcftCY5Ac"
      },
      "execution_count": null,
      "outputs": []
    },
    {
      "cell_type": "markdown",
      "metadata": {
        "id": "1LQBpA7geyCD"
      },
      "source": [
        "## Create development and validation samples"
      ]
    },
    {
      "cell_type": "markdown",
      "source": [
        "### Normalize the samples"
      ],
      "metadata": {
        "id": "FKFlYxCt4Qr_"
      }
    },
    {
      "cell_type": "markdown",
      "source": [
        "Before creating the validation and development samples we need to normalize our dataset, since the normalization methods are done in respect to the sample fed to the pipeline. This means that if we select subsamples first and normalize them afterwards, the normalization will be slightly different every time."
      ],
      "metadata": {
        "id": "-gfiIOmr4XYo"
      }
    },
    {
      "cell_type": "markdown",
      "metadata": {
        "id": "S6E-ORPXeyCY"
      },
      "source": [
        "Here we define a SK-Learn pipeline which will contain transformation steps for any data fed in. Pipelines are a nice, compact way of handing data transformations."
      ]
    },
    {
      "cell_type": "code",
      "metadata": {
        "id": "bYUkkyFheyCZ"
      },
      "source": [
        "normIn = True #True #Whether we want to normalise and standardise the inputs\n",
        "pca = True #True #Whether we want to use principal-component analysis to decorrelate inputs\n",
        "whiten = True #True #Whether we want to whiten input data\n",
        "\n",
        "stepsIn = []\n",
        "if not normIn and not pca:\n",
        "    stepsIn.append(('ident', StandardScaler(with_mean=False, with_std=False))) #For compatability\n",
        "else:\n",
        "    if normIn:\n",
        "        stepsIn.append(('normIn', StandardScaler()))\n",
        "    if pca:\n",
        "        stepsIn.append(('pca', PCA(whiten=whiten)))\n",
        "inputPipe = Pipeline(stepsIn)\n",
        "stepsOut = []"
      ],
      "execution_count": null,
      "outputs": []
    },
    {
      "cell_type": "markdown",
      "source": [
        "In order to normalize our data we need to define which variables we want to use in our analysis. We define those in the block below"
      ],
      "metadata": {
        "id": "_q77n341IwRp"
      }
    },
    {
      "cell_type": "code",
      "metadata": {
        "id": "gGK5YfFVeyCJ",
        "colab": {
          "base_uri": "https://localhost:8080/"
        },
        "outputId": "d0e835bc-ab80-49e3-98b1-76f02b9f1b1e"
      },
      "source": [
        "#The columns in the file are separated by \", \" so since this reads it as a .csv file the spaces count in the names\n",
        "Features = [var for var in FullSignal.columns if str.startswith(var, \" Event\") or str.startswith(var, \" Decay Angle\") or str.startswith(var, \"target\") or str.startswith(var, \" Decay Mode\") or str.startswith(var, \" Decay X\") or str.startswith(var, \" Decay Y\") or\n",
        "            str.startswith(var, \" Daughter1 Fraction\") or str.startswith(var, \" Daughter2 Fraction\") or str.startswith(var, \" Mother Transverse\") or str.startswith(var, \" Good\") or str.startswith(var, \" Invariant\")] #introduzir todas as variáveis que pretendes excluir do treino\n",
        "trainFeatures = [var for var in FullSignal.columns if var not in Features] #Reconstructed features; ok for training\n",
        "\n",
        "print(trainFeatures)"
      ],
      "execution_count": null,
      "outputs": [
        {
          "output_type": "stream",
          "name": "stdout",
          "text": [
            "['Mother Total Momentum (GeV/c)', ' Mother Fraction of Transverse Momentum', ' Opening Angle (rad)', ' Impact Parameter (cm)', ' Daughter1 Total Momentum (GeV/c)', ' Daughter1 Transverse Momentum (GeV/c)', ' Daughter2 Total Momentum (GeV/c)', ' Daughter2 Transverse Momentum (GeV/c)', ' Decay Z (cm)']\n"
          ]
        }
      ]
    },
    {
      "cell_type": "code",
      "metadata": {
        "id": "bwMpJaGbeyCc"
      },
      "source": [
        "#We put the normalized data into NormFullSignal, and only afterwards do we create our test and validation samples\n",
        "#Recall that the output from NormFullSignal is an array (numpy like)\n",
        "NormFullSignal = inputPipe.fit_transform(FullSignal[trainFeatures].values.astype('float32'))\n",
        "\n",
        "#Notice that since we normalized our data and applied a PCA the variables are no longer physical, and also would not have units\n",
        "#However, in order to create a dataframe we need a placeholder name for each column, and this is practical\n",
        "NormFullSignalDF = pandas.DataFrame(NormFullSignal, columns=trainFeatures)\n",
        "\n",
        "#We are using iloc in order to select from event iloc[first_event:last_event,first_column:last_column], \n",
        "NormSignal = NormFullSignalDF.iloc[0:len(Signal),:]\n",
        "NormBackground = NormFullSignalDF.iloc[len(Signal):len(FullSignal),:]"
      ],
      "execution_count": null,
      "outputs": []
    },
    {
      "cell_type": "markdown",
      "source": [
        "### Creating the samples to test and validate our NN\n",
        "We look at what data-set has the least events, and select an analogous amount of the other set randomly to avoid bias towards one"
      ],
      "metadata": {
        "id": "OlBiEolaUCJJ"
      }
    },
    {
      "cell_type": "code",
      "source": [
        "MoreSignal = True\n",
        "if len(Signal) < len(Background):\n",
        "  MoreSignal = False\n",
        "\n",
        "if MoreSignal:\n",
        "  SignalSubset = NormSignal.sample(n=len(NormBackground))\n",
        "  BackgroundSubset = NormBackground\n",
        "else:\n",
        "  SignalSubset = NormSignal\n",
        "  BackgroundSubset = NormBackground.sample(n=len(NormSignal))\n",
        "SignalSubset['target'] = 1.0\n",
        "BackgroundSubset['target'] = 0.0"
      ],
      "metadata": {
        "colab": {
          "base_uri": "https://localhost:8080/"
        },
        "id": "K2R4GAL6UCRg",
        "outputId": "be807675-ec18-461e-b82b-e6bc08e4311f"
      },
      "execution_count": null,
      "outputs": [
        {
          "output_type": "stream",
          "name": "stderr",
          "text": [
            "/usr/local/lib/python3.7/dist-packages/ipykernel_launcher.py:11: SettingWithCopyWarning: \n",
            "A value is trying to be set on a copy of a slice from a DataFrame.\n",
            "Try using .loc[row_indexer,col_indexer] = value instead\n",
            "\n",
            "See the caveats in the documentation: https://pandas.pydata.org/pandas-docs/stable/user_guide/indexing.html#returning-a-view-versus-a-copy\n",
            "  # This is added back by InteractiveShellApp.init_path()\n"
          ]
        }
      ]
    },
    {
      "cell_type": "markdown",
      "source": [
        "Now we divide our samples into a 70/30 split in order to train with a part of our subset, and validate our model with the other part."
      ],
      "metadata": {
        "id": "YGUl1GSBZIKJ"
      }
    },
    {
      "cell_type": "markdown",
      "source": [
        "You will notice that we are not utilizing all of our dataset. Do not fret as our results will need us to use the full dataset in order to get the best selection efficiencies "
      ],
      "metadata": {
        "id": "opWYsSn3Zzkt"
      }
    },
    {
      "cell_type": "code",
      "metadata": {
        "id": "-8cJUDcjeyCF"
      },
      "source": [
        "# Creates a column that defines the target score that we want to achieve in each data set\n",
        "# This is a good way of dividing the datasets when they are relatively similar in sizes\n",
        "Sig_dev, Sig_val = \\\n",
        "                train_test_split([i for i in SignalSubset.index.tolist()],\n",
        "                                 test_size=0.3, random_state=1337)\n",
        "Back_dev, Back_val = \\\n",
        "                train_test_split([i for i in BackgroundSubset.index.tolist()],\n",
        "                                 test_size=0.3, random_state=1337)\n",
        "\n",
        "devData = SignalSubset.loc[Sig_dev].copy()\n",
        "devData = devData.append(BackgroundSubset.loc[Back_dev].copy(), ignore_index = True)\n",
        "valData = SignalSubset.loc[Sig_val].copy()\n",
        "valData = valData.append(BackgroundSubset.loc[Back_val].copy(), ignore_index = True)"
      ],
      "execution_count": null,
      "outputs": []
    },
    {
      "cell_type": "markdown",
      "source": [
        "After all of this, we create the training and validation arrays that will be fed onto the network"
      ],
      "metadata": {
        "id": "aCbuLt5Ke0VW"
      }
    },
    {
      "cell_type": "code",
      "source": [
        "Features1 = [var for var in devData.columns if str.startswith(var, \"target\")]\n",
        "\n",
        "X_class_train = devData[trainFeatures].values.astype('float32')\n",
        "y_class_train = devData[Features1].values.astype('float32')\n",
        "\n",
        "X_class_val = valData[trainFeatures].values.astype('float32')\n",
        "y_class_val = valData[Features1].values.astype('float32') \n",
        "\n",
        "#print(trainFeatures)\n",
        "#print(Features1)\n",
        "#devData"
      ],
      "metadata": {
        "id": "zXuSYqnYItBV"
      },
      "execution_count": null,
      "outputs": []
    },
    {
      "cell_type": "markdown",
      "metadata": {
        "id": "eWoCy8j8eyCN"
      },
      "source": [
        "## Training options"
      ]
    },
    {
      "cell_type": "markdown",
      "metadata": {
        "id": "-70naN2MeyCO"
      },
      "source": [
        "Training options for a binary separation"
      ]
    },
    {
      "cell_type": "code",
      "metadata": {
        "scrolled": false,
        "id": "vulpJ829eyCO",
        "outputId": "93334f96-07dc-46f1-a6a8-4b1cc0b6a472",
        "colab": {
          "base_uri": "https://localhost:8080/"
        }
      },
      "source": [
        "classTrainFeatures = trainFeatures #The features used\n",
        "classModel = \"model0\" #Will define the layout of the network\n",
        "varSet = \"trainFeatures\" #Name of the feature set used, mainly for saving results\n",
        "nSplits = 1 #Number of train/test splits to make during cross-validation\n",
        "ensembleSize = 1 #Number of classifiers  to include in ensemble = min(nSplits, ensembleSize)\n",
        "ensembleMode = 'loss'#accuracy'#'loss' #Metric used to weight classifiers in ensemble\n",
        "#nad=Nadam(0.0001, 0.9, 0.999, 1e-08, 0.004)\n",
        "nad=Nadam(learning_rate=0.0001, beta_1=0.9, beta_2=0.999, epsilon=1e-08)\n",
        "#sgd=SGD(0.001,0.0,0.0,False)\n",
        "sgd=SGD(learning_rate=0.001,momentum=0.9,nesterov=True)\n",
        "#categorical_cross_entropy para várias amostras de sinal\n",
        "compileArgs = {'loss':'binary_crossentropy', \n",
        "               'optimizer':'Adam'}#, 'metrics':['acc']} #Loss function and optimiser for NN\n",
        "trainParams = {'epochs' : 500, \n",
        "               'batch_size' : 100, \n",
        "               'verbose' : 2} #Maximum epochs for training and size of mini-batch\n",
        "print(\"Training on {} features {}\". format(len(classTrainFeatures),[var for var in classTrainFeatures]))"
      ],
      "execution_count": null,
      "outputs": [
        {
          "output_type": "stream",
          "name": "stdout",
          "text": [
            "Training on 9 features ['Mother Total Momentum (GeV/c)', ' Mother Fraction of Transverse Momentum', ' Opening Angle (rad)', ' Impact Parameter (cm)', ' Daughter1 Total Momentum (GeV/c)', ' Daughter1 Transverse Momentum (GeV/c)', ' Daughter2 Total Momentum (GeV/c)', ' Daughter2 Transverse Momentum (GeV/c)', ' Decay Z (cm)']\n"
          ]
        }
      ]
    },
    {
      "cell_type": "markdown",
      "metadata": {
        "id": "MQ8_2dISeyCg"
      },
      "source": [
        "## Define classifier"
      ]
    },
    {
      "cell_type": "markdown",
      "metadata": {
        "id": "lKkSD4ZGeyCh"
      },
      "source": [
        "Classifier for the binary separation"
      ]
    },
    {
      "cell_type": "code",
      "metadata": {
        "id": "vZ14T6q0eyCi"
      },
      "source": [
        "\n",
        "def getClassifier(model, nIn, compileArgs):\n",
        "    classModel = Sequential()\n",
        "    depth = None\n",
        "    width = None\n",
        "    if model == \"model0\":\n",
        "        depth = 2\n",
        "        width = 25\n",
        "        step = 5\n",
        "    #classModel.add(Dropout(0.2))\n",
        "    classModel.add(Dense(width, input_shape=(9,), kernel_initializer='normal', activation='relu'))#, kernel_initializer='TruncatedNormal')) #First layer requires number of inputs\n",
        "    classModel.add(Activation('relu')) #Add ReLU activation function\n",
        "    for i in range(depth): #Continue to add hidden layers \n",
        "        width = width-step\n",
        "        print(width)\n",
        "        classModel.add(Dropout(0.05))\n",
        "        classModel.add(Dense(width, kernel_initializer='normal', activation='relu'))#kernel_initializer='TruncatedNormal') #Subsequent layers inherit input_dim from previous layer\n",
        "        #classModel.add(Activation('relu'))\n",
        "    #classModel.add(Dropout(0.2))\n",
        "    classModel.add(Dense(1, kernel_initializer='normal', activation='sigmoid'))#, kernel_initializer='TruncatedNormal')) #Final layer requires one output\n",
        "    #Change this to put a number of neurons equal to the number of categories and change sigmoid to softmax\n",
        "    classModel.compile(**compileArgs) #Compile the network graph to prepare it for use\n",
        "    return classModel"
      ],
      "execution_count": null,
      "outputs": []
    },
    {
      "cell_type": "markdown",
      "metadata": {
        "id": "O7dATXd3eyCv"
      },
      "source": [
        "### Callbacks"
      ]
    },
    {
      "cell_type": "markdown",
      "metadata": {
        "id": "7fvFcltyeyCw"
      },
      "source": [
        "Callbacks are methods that can be called during training. They have a variety of uses such as monitoring training, stopping training early, and saving different versions of the model. Here we define our own callback,  which saves the history of the training.\n",
        "\n",
        "We want to view the history of the model's performance on the training and testing data during data, however by default the training loss is averaged over the epoch, and the test loss is evaluated at the end of the epoch, so is not comparable. This modified version evaluates the performance on the training data at the end of each epoch.\n",
        "\n",
        "Later well also use some other callbacks:\n",
        "\n",
        "EarlyStopping monitors a specified metric and stops the training if the performance fails to improve for a specified number of epochs in a row. Here we use it to monitor the loss on the test data and stop when it doesn't improve after 10 epochs.\n",
        "\n",
        "ModelCheckpoint is used to save the weights of the network during training. It's quite flexible, but here we use it save the model which performs best according to the loss in test data.\n",
        "\n",
        "Normally during training, the test loss will reach a minimum and either saturate or start to increase (overtraining). The training loss will normally either saturate or continue to decrease. The optimum point is when the test-loss first reaches its minimum point. The combination of EarlyStopping and ModelCheckpoint acts to save the model at this point and allow some leeway in case it starts to decrease again."
      ]
    },
    {
      "cell_type": "code",
      "metadata": {
        "id": "MK8hziRneyCx"
      },
      "source": [
        "class LossHistory(Callback):\n",
        "    def __init__(self, trData):\n",
        "        self.trainingData = trData\n",
        "    def on_train_begin(self, logs={}):\n",
        "        self.losses = {}\n",
        "        self.losses['loss'] = []\n",
        "        self.losses['val_loss'] = []\n",
        "\n",
        "    def on_epoch_end(self, epoch, logs={}):\n",
        "        self.losses['loss'].append(self.model.evaluate(self.trainingData[0], self.trainingData[1], verbose=0))\n",
        "        self.losses['val_loss'].append(logs.get('val_loss'))"
      ],
      "execution_count": null,
      "outputs": []
    },
    {
      "cell_type": "code",
      "metadata": {
        "id": "I3m-arbYeyC4"
      },
      "source": [
        "class EarlyStoppingByLossVal(Callback):\n",
        "    def __init__(self, monitor='val_loss', value=0.00001, verbose=0):\n",
        "        super(Callback, self).__init__()\n",
        "        self.monitor = monitor\n",
        "        self.value = value\n",
        "        self.verbose = verbose\n",
        "\n",
        "    def on_epoch_end(self, epoch, logs={}):\n",
        "        current = logs.get(self.monitor)\n",
        "        if current is None:\n",
        "            warnings.warn(\"Early stopping requires %s available!\" % self.monitor, RuntimeWarning)\n",
        "\n",
        "        if current < self.value:\n",
        "            if self.verbose > 0:\n",
        "                print(\"Epoch %05d: early stopping THR\" % epoch)\n",
        "            self.model.stop_training = True"
      ],
      "execution_count": null,
      "outputs": []
    },
    {
      "cell_type": "markdown",
      "metadata": {
        "id": "srxfRpDceyC9"
      },
      "source": [
        "## Train classifier"
      ]
    },
    {
      "cell_type": "code",
      "metadata": {
        "id": "ONAYifAzeyC-",
        "colab": {
          "base_uri": "https://localhost:8080/"
        },
        "outputId": "3c8fdd40-6f8f-468c-ced1-de34694f613a"
      },
      "source": [
        "\n",
        "#W_final = np.array(W)\n",
        "\n",
        "start = timeit.default_timer()\n",
        "\n",
        "results = []\n",
        "histories = []\n",
        "\n",
        "os.chdir('/content/drive/MyDrive/Colab Notebooks/TFPAII/ML_Weights/') #Here you should put the directory in your pc where you will save the weight files for the NNs\n",
        "\n",
        "os.system(\"mkdir train_weights\")\n",
        "os.system(\"rm train_weights/*.h5\")\n",
        "os.system(\"rm train_weights/*.json\")\n",
        "os.system(\"rm train_weights/*.pkl\")\n",
        "\n",
        "model = None # Clearing the NN\n",
        "model = getClassifier(classModel, len(classTrainFeatures), compileArgs)\n",
        "#model.reset_states #Just checking\n",
        "    \n",
        "lossHistory = LossHistory((X_class_train, y_class_train))\n",
        "earlyStop = EarlyStopping(monitor='val_loss', patience=5, verbose=1, mode='auto')\n",
        "saveBest = ModelCheckpoint(\"train_weights/best.h5\", monitor='val_loss', verbose=0, \n",
        "                            save_best_only=True, save_weights_only=True, mode='auto', period=1)\n",
        "    \n",
        "#Begin training the model\n",
        "C = model.fit(X_class_train, y_class_train, validation_data = (X_class_val, y_class_val), callbacks = [earlyStop, saveBest, lossHistory], **trainParams)\n",
        "    \n",
        "histories.append(lossHistory.losses) #Saves the loss history from callback\n",
        "model.load_weights(\"train_weights/best.h5\") #Loads the best model saved by ModelCheckpoint\n",
        "       \n",
        "results.append({})\n",
        "    \n",
        "results[-1]['loss'] = model.evaluate(X_class_val, y_class_val, verbose=0) #Gets loss on test data\n",
        "#results[-1]['AUC'] = 1-roc_auc_score(y_class_val, model.predict(X_class_val, verbose=0)) #Gets ROC AUC for test data\n",
        " \n",
        "#print(\"Score is:\", results[-1])\n",
        "    \n",
        "model.save('train_weights/train.h5') #Save the model\n",
        "\n",
        "with open('train_weights/resultsFile.pkl', 'wb') as fout: #Save results\n",
        "    cPickle.dump(results, fout)\n",
        "\n",
        "print(\"Cross-validation took {:.3f}s \".format(timeit.default_timer() - start))\n",
        "\n",
        "model.summary() #Prints a summary of the model layout\n",
        "model = None\n",
        "\n"
      ],
      "execution_count": null,
      "outputs": [
        {
          "output_type": "stream",
          "name": "stdout",
          "text": [
            "20\n",
            "15\n",
            "WARNING:tensorflow:`period` argument is deprecated. Please use `save_freq` to specify the frequency in number of batches seen.\n",
            "Epoch 1/500\n",
            "26/26 - 1s - loss: 0.6923 - val_loss: 0.6900 - 1s/epoch - 53ms/step\n",
            "Epoch 2/500\n",
            "26/26 - 0s - loss: 0.6804 - val_loss: 0.6604 - 257ms/epoch - 10ms/step\n",
            "Epoch 3/500\n",
            "26/26 - 0s - loss: 0.6121 - val_loss: 0.5349 - 318ms/epoch - 12ms/step\n",
            "Epoch 4/500\n",
            "26/26 - 0s - loss: 0.4297 - val_loss: 0.3225 - 256ms/epoch - 10ms/step\n",
            "Epoch 5/500\n",
            "26/26 - 0s - loss: 0.2360 - val_loss: 0.1781 - 309ms/epoch - 12ms/step\n",
            "Epoch 6/500\n",
            "26/26 - 0s - loss: 0.1275 - val_loss: 0.1134 - 249ms/epoch - 10ms/step\n",
            "Epoch 7/500\n",
            "26/26 - 0s - loss: 0.0867 - val_loss: 0.0874 - 245ms/epoch - 9ms/step\n",
            "Epoch 8/500\n",
            "26/26 - 0s - loss: 0.0640 - val_loss: 0.0765 - 294ms/epoch - 11ms/step\n",
            "Epoch 9/500\n",
            "26/26 - 0s - loss: 0.0511 - val_loss: 0.0647 - 323ms/epoch - 12ms/step\n",
            "Epoch 10/500\n",
            "26/26 - 0s - loss: 0.0473 - val_loss: 0.0589 - 268ms/epoch - 10ms/step\n",
            "Epoch 11/500\n",
            "26/26 - 0s - loss: 0.0371 - val_loss: 0.0522 - 302ms/epoch - 12ms/step\n",
            "Epoch 12/500\n",
            "26/26 - 0s - loss: 0.0348 - val_loss: 0.0479 - 276ms/epoch - 11ms/step\n",
            "Epoch 13/500\n",
            "26/26 - 0s - loss: 0.0330 - val_loss: 0.0442 - 279ms/epoch - 11ms/step\n",
            "Epoch 14/500\n",
            "26/26 - 0s - loss: 0.0307 - val_loss: 0.0442 - 277ms/epoch - 11ms/step\n",
            "Epoch 15/500\n",
            "26/26 - 0s - loss: 0.0268 - val_loss: 0.0416 - 307ms/epoch - 12ms/step\n",
            "Epoch 16/500\n",
            "26/26 - 0s - loss: 0.0245 - val_loss: 0.0397 - 316ms/epoch - 12ms/step\n",
            "Epoch 17/500\n",
            "26/26 - 0s - loss: 0.0266 - val_loss: 0.0414 - 278ms/epoch - 11ms/step\n",
            "Epoch 18/500\n",
            "26/26 - 0s - loss: 0.0250 - val_loss: 0.0414 - 280ms/epoch - 11ms/step\n",
            "Epoch 19/500\n",
            "26/26 - 0s - loss: 0.0233 - val_loss: 0.0415 - 230ms/epoch - 9ms/step\n",
            "Epoch 20/500\n",
            "26/26 - 0s - loss: 0.0252 - val_loss: 0.0369 - 353ms/epoch - 14ms/step\n",
            "Epoch 21/500\n",
            "26/26 - 0s - loss: 0.0204 - val_loss: 0.0381 - 293ms/epoch - 11ms/step\n",
            "Epoch 22/500\n",
            "26/26 - 0s - loss: 0.0215 - val_loss: 0.0341 - 266ms/epoch - 10ms/step\n",
            "Epoch 23/500\n",
            "26/26 - 0s - loss: 0.0205 - val_loss: 0.0410 - 240ms/epoch - 9ms/step\n",
            "Epoch 24/500\n",
            "26/26 - 0s - loss: 0.0235 - val_loss: 0.0357 - 296ms/epoch - 11ms/step\n",
            "Epoch 25/500\n",
            "26/26 - 0s - loss: 0.0195 - val_loss: 0.0381 - 284ms/epoch - 11ms/step\n",
            "Epoch 26/500\n",
            "26/26 - 0s - loss: 0.0224 - val_loss: 0.0370 - 231ms/epoch - 9ms/step\n",
            "Epoch 27/500\n",
            "26/26 - 0s - loss: 0.0198 - val_loss: 0.0377 - 297ms/epoch - 11ms/step\n",
            "Epoch 27: early stopping\n",
            "Cross-validation took 12.026s \n",
            "Model: \"sequential\"\n",
            "_________________________________________________________________\n",
            " Layer (type)                Output Shape              Param #   \n",
            "=================================================================\n",
            " dense (Dense)               (None, 25)                250       \n",
            "                                                                 \n",
            " activation (Activation)     (None, 25)                0         \n",
            "                                                                 \n",
            " dropout (Dropout)           (None, 25)                0         \n",
            "                                                                 \n",
            " dense_1 (Dense)             (None, 20)                520       \n",
            "                                                                 \n",
            " dropout_1 (Dropout)         (None, 20)                0         \n",
            "                                                                 \n",
            " dense_2 (Dense)             (None, 15)                315       \n",
            "                                                                 \n",
            " dense_3 (Dense)             (None, 1)                 16        \n",
            "                                                                 \n",
            "=================================================================\n",
            "Total params: 1,101\n",
            "Trainable params: 1,101\n",
            "Non-trainable params: 0\n",
            "_________________________________________________________________\n"
          ]
        }
      ]
    },
    {
      "cell_type": "markdown",
      "metadata": {
        "id": "r4SXSxXfeyDC"
      },
      "source": [
        "## Construct ensemble\n",
        "During the *k*-fold CV we trained *k* models. We could just use the best one, however it is unlikely to optimimum for all input possibilities. Ensembling is a method of using multiple classifiers together to achieve a better result than a single one on its own.\n",
        "\n",
        "The method I use here is to weight the contributions of each classifier according to how well it performed on its test set during CV."
      ]
    },
    {
      "cell_type": "code",
      "metadata": {
        "id": "gWyHAY2meyDD",
        "colab": {
          "base_uri": "https://localhost:8080/",
          "height": 511
        },
        "outputId": "21704380-9e02-4acb-f50f-5156ee89f413"
      },
      "source": [
        "plt.figure(figsize=(16,8))\n",
        "#print(model.predict(X_class))\n",
        "for i, history in enumerate(histories):\n",
        "    if i == 0:\n",
        "        plt.plot(history['loss'], color='g', label='Training')\n",
        "        plt.plot(history['val_loss'], color='b', label='Testing')\n",
        "    else:\n",
        "        plt.plot(history['loss'], color='g')\n",
        "        plt.plot(history['val_loss'], color='b')\n",
        "        \n",
        "plt.legend(fontsize=16)\n",
        "plt.xlabel(\"Epoch\", fontsize=24, color='black')\n",
        "plt.ylabel(\"Loss\", fontsize=24, color='black')\n",
        "plt.yscale('log',nonposy='clip')\n",
        "plt.show()"
      ],
      "execution_count": null,
      "outputs": [
        {
          "output_type": "display_data",
          "data": {
            "text/plain": [
              "<Figure size 1152x576 with 1 Axes>"
            ],
            "image/png": "[encoded data removed]"
          },
          "metadata": {}
        }
      ]
    },
    {
      "cell_type": "code",
      "metadata": {
        "id": "gasQ3-XbeyDI"
      },
      "source": [
        "\n",
        "\n",
        "os.chdir('/content/drive/MyDrive/Colab Notebooks/TFPAII/ML_Weights/')\n",
        "results = None\n",
        "with open('train_weights/resultsFile.pkl', 'rb') as fin: #Reload results in case notebook was closed\n",
        "    results = cPickle.load(fin)"
      ],
      "execution_count": null,
      "outputs": []
    },
    {
      "cell_type": "code",
      "metadata": {
        "id": "HBe6SkUTeyDL"
      },
      "source": [
        "model = load_model('/content/drive/MyDrive/Colab Notebooks/TFPAII/ML_Weights/train_weights/train.h5')"
      ],
      "execution_count": null,
      "outputs": []
    },
    {
      "cell_type": "markdown",
      "metadata": {
        "id": "X6H5-RBWeyDS"
      },
      "source": [
        "## Response on dev and val data"
      ]
    },
    {
      "cell_type": "code",
      "metadata": {
        "id": "A06nTLtzeyDS",
        "colab": {
          "base_uri": "https://localhost:8080/"
        },
        "outputId": "6fe7657a-8b6a-4781-b449-465c95206fdf"
      },
      "source": [
        "pred_train = model.predict(X_class_train, verbose=0)\n",
        "pred_val = model.predict(X_class_val, verbose=0)\n",
        "pred_full_Data = model.predict(NormFullSignal, verbose=0)\n",
        "\n",
        "devAUC = roc_auc_score(y_class_train[:,0], pred_train[:,0])\n",
        "print('Area under ROC curve for development data is {:.5f}'.format(devAUC))\n",
        "\n",
        "valAUC = roc_auc_score(y_class_val[:,0], pred_val[:,0])\n",
        "print('Area under ROC curve for validation data is {:.5f}'.format(valAUC))\n",
        "\n",
        "FullSignalScore = FullSignal['target'].values.astype('float32') \n",
        "fullAUC = roc_auc_score(FullSignalScore, pred_full_Data[:,0])\n",
        "print('Area under ROC curve for validation data is {:.5f}'.format(fullAUC))"
      ],
      "execution_count": null,
      "outputs": [
        {
          "output_type": "stream",
          "name": "stdout",
          "text": [
            "Area under ROC curve for development data is 0.99991\n",
            "Area under ROC curve for validation data is 0.99820\n",
            "Area under ROC curve for validation data is 0.99916\n"
          ]
        }
      ]
    },
    {
      "cell_type": "code",
      "source": [
        "from sklearn.metrics import roc_curve\n",
        "plt.figure()\n",
        "#roc_curve(real_value, NN_score)\n",
        "lw = 2\n",
        "fprdev, tprdev, thresholdsdev = roc_curve(y_class_train,pred_train)\n",
        "plt.plot(fprdev,tprdev,color='darkorange',lw=lw, label='ROC curve for devData (area = %0.2f)' % devAUC)\n",
        "fprval, tprval, thresholdsval = roc_curve(y_class_val,pred_val)\n",
        "plt.plot(fprval, tprval, color='navy', lw=lw, label='ROC curve for valData (area = %0.2f)' % valAUC)\n",
        "fprfull, tprfull, thresholdfull = roc_curve(FullSignalScore,pred_full_Data)\n",
        "plt.plot(fprfull, tprfull, color='red', lw=lw, label='ROC curve for FullSignal (area = %0.2f)' % fullAUC)\n",
        "plt.xlim([0.0, 0.2])\n",
        "plt.ylim([0.9, 1.05])\n",
        "plt.xlabel(\"False Positive Rate\")\n",
        "plt.ylabel(\"True Positive Rate\")\n",
        "plt.title(\"ROC Curve for the Training Sample\")\n",
        "plt.legend(loc=\"lower right\")\n",
        "plt.show()"
      ],
      "metadata": {
        "colab": {
          "base_uri": "https://localhost:8080/",
          "height": 295
        },
        "id": "xoz-ZQgKF6F6",
        "outputId": "481ca896-6038-4f9a-9323-dd9696bfe5bf"
      },
      "execution_count": null,
      "outputs": [
        {
          "output_type": "display_data",
          "data": {
            "text/plain": [
              "<Figure size 432x288 with 1 Axes>"
            ],
            "image/png": "[encoded data removed]"
          },
          "metadata": {}
        }
      ]
    },
    {
      "cell_type": "markdown",
      "metadata": {
        "id": "nurQggcoeyDf"
      },
      "source": [
        "## Aplying the NN to the data set in order to obtain the probabilities of being signal "
      ]
    },
    {
      "cell_type": "markdown",
      "metadata": {
        "id": "_Rix5ORSeyDf"
      },
      "source": [
        "### This is for binary selection"
      ]
    },
    {
      "cell_type": "code",
      "metadata": {
        "id": "cj9SzBQSeyDj",
        "outputId": "2ffacc95-8ff0-4fdc-94ca-36e0ab320157",
        "colab": {
          "base_uri": "https://localhost:8080/",
          "height": 556
        }
      },
      "source": [
        "#Appending the score provided by the NN to the full dataset\n",
        "FullSignal['signal_probability'] = pandas.Series(pred_full_Data[:,0])\n",
        "\n",
        "#Printing out histograms with the score predictions for each event type\n",
        "feature = ' Event Type'\n",
        "# Little renaming of the Event Type variable from an int to a str to be prettier on the automatic plots\n",
        "EventType = {1:'Heavy Neutral Lepton',2:'Dark Photon', 4:'Neutrino DIS'}\n",
        "for index, entry in enumerate(FullSignal[' Event Type']):\n",
        "  FullSignal[' Event Type'][index] = EventType[entry]\n",
        "\n",
        "ax = FullSignal.hist(column='signal_probability', by=feature, bins=100, grid=False, figsize=(8,16), layout=(6,1), sharex=True, color='#86bf91', zorder=2, rwidth=1.0, log=True, legend=True, sharey=False)\n",
        "\n",
        "\n",
        "for i,x in enumerate(ax):\n",
        "\n",
        "    # Despine\n",
        "    x.spines['right'].set_visible(False)\n",
        "    x.spines['top'].set_visible(False)\n",
        "    x.spines['left'].set_visible(False)\n",
        "\n",
        "    # Switch off ticks\n",
        "    x.tick_params(axis=\"both\", which=\"both\", bottom=\"off\", top=\"off\", labelbottom=\"on\", left=\"off\", right=\"off\", labelleft=\"on\")\n",
        "\n",
        "    # Draw horizontal axis lines\n",
        "    vals = x.get_yticks()\n",
        "    for tick in vals:\n",
        "        x.axhline(y=tick, linestyle='dashed', alpha=0.4, color='#eeeeee', zorder=1)\n",
        "\n",
        "    # Set x-axis label\n",
        "    x.set_xlabel(\"Probability attributed\", labelpad=20, weight='bold', size=12)\n",
        "\n",
        "    # Set y-axis label\n",
        "    if i == 1:\n",
        "        x.set_ylabel(\"Number of Events for each \"+feature, labelpad=50, weight='bold', size=12)\n",
        "\n",
        "\n",
        "\n",
        "    x.tick_params(axis='x', rotation=0)"
      ],
      "execution_count": null,
      "outputs": [
        {
          "output_type": "stream",
          "name": "stderr",
          "text": [
            "/usr/local/lib/python3.7/dist-packages/ipykernel_launcher.py:5: SettingWithCopyWarning: \n",
            "A value is trying to be set on a copy of a slice from a DataFrame\n",
            "\n",
            "See the caveats in the documentation: https://pandas.pydata.org/pandas-docs/stable/user_guide/indexing.html#returning-a-view-versus-a-copy\n",
            "  \"\"\"\n",
            "/usr/local/lib/python3.7/dist-packages/pandas/core/indexing.py:1732: SettingWithCopyWarning: \n",
            "A value is trying to be set on a copy of a slice from a DataFrame\n",
            "\n",
            "See the caveats in the documentation: https://pandas.pydata.org/pandas-docs/stable/user_guide/indexing.html#returning-a-view-versus-a-copy\n",
            "  self._setitem_single_block(indexer, value, name)\n"
          ]
        },
        {
          "output_type": "display_data",
          "data": {
            "text/plain": [
              "<Figure size 576x1152 with 6 Axes>"
            ],
            "image/png": "[encoded data removed]"
          },
          "metadata": {}
        }
      ]
    },
    {
      "cell_type": "code",
      "metadata": {
        "id": "LnyQD5gEeyDu",
        "outputId": "e17e687b-8ab6-4a19-beae-50eaa468c0cf",
        "colab": {
          "base_uri": "https://localhost:8080/"
        }
      },
      "source": [
        "print(FullSignal['signal_probability'].max())\n",
        "print(FullSignal['signal_probability'][FullSignal[' Event Type'] == 'Neutrino DIS'].max())\n",
        "\n",
        "Max = FullSignal['signal_probability'][FullSignal[' Event Type'] == 'Neutrino DIS'].max()\n",
        "Threshold = Max\n",
        "\n",
        "SurvivingSignal=FullSignal[(FullSignal[\"signal_probability\"] > Threshold) & (FullSignal[\" Event Type\"] != 'Neutrino DIS')]\n",
        "SurvivingBackground=FullSignal[(FullSignal[\"signal_probability\"] > Threshold) & (FullSignal[\" Event Type\"] == 'Neutrino DIS')]\n",
        "\n",
        "print(\"There are \" + str(len(SurvivingSignal)) + \" true  positives and \" + str(len(SurvivingBackground)) + \" false positives.\")\n",
        "print(\"This leads to a total selection efficiency of \" + str(len(SurvivingSignal)/len(FullSignal)))\n",
        "\n",
        "efficiency = 0.999\n",
        "for n in range (0,1000):\n",
        "    Threshold=1-n*0.001\n",
        "    SurvivingSignal=FullSignal[(FullSignal[\"signal_probability\"]>Threshold) & (FullSignal[\" Event Type\"] != 'Neutrino DIS')]\n",
        "    if len(SurvivingSignal)/len(Signal)>efficiency:\n",
        "        break\n",
        "        \n",
        "print(\"The threshold to keep the selection efficiency of the signal at \"+ str(efficiency*100) +\"% is \" + str(Threshold))\n",
        "\n",
        "SurvivingSignal=FullSignal[(FullSignal[\"signal_probability\"] > Threshold) & (FullSignal[\" Event Type\"] != 'Neutrino DIS')]\n",
        "SurvivingBackground=FullSignal[(FullSignal[\"signal_probability\"] > Threshold) & (FullSignal[\" Event Type\"] == 'Neutrino DIS')]\n",
        "\n",
        "print(\"There are \" + str(len(SurvivingSignal)) + \" true  positives and \" + str(len(SurvivingBackground)) + \" false positives.\")\n",
        "print(\"This leads to a total selection efficiency of \" + str(len(SurvivingSignal)/len(Signal)))\n",
        "print(\"There is, however, a background selection efficiency of \" + str(len(SurvivingBackground)/len(Background)*100) + \" %\")"
      ],
      "execution_count": null,
      "outputs": [
        {
          "output_type": "stream",
          "name": "stdout",
          "text": [
            "1.0\n",
            "0.9999566674232483\n",
            "There are 204 true  positives and 0 false positives.\n",
            "This leads to a total selection efficiency of 0.02521943379898628\n",
            "The threshold to keep the selection efficiency of the signal at 99.9% is 0.029000000000000026\n",
            "There are 1837 true  positives and 203 false positives.\n",
            "This leads to a total selection efficiency of 0.999455930359086\n",
            "There is, however, a background selection efficiency of 3.2474804031354982 %\n"
          ]
        }
      ]
    },
    {
      "cell_type": "code",
      "source": [
        ""
      ],
      "metadata": {
        "id": "RMzaKdxQX_s6"
      },
      "execution_count": null,
      "outputs": []
    }
  ]
}